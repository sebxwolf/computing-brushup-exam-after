{
 "cells": [
  {
   "cell_type": "markdown",
   "metadata": {
    "ein.tags": "worksheet-0",
    "slideshow": {
     "slide_type": "-"
    }
   },
   "source": [
    "# Problem 1: Data with R"
   ]
  },
  {
   "cell_type": "code",
   "execution_count": 1,
   "metadata": {
    "autoscroll": false,
    "ein.hycell": false,
    "ein.tags": "worksheet-0",
    "slideshow": {
     "slide_type": "-"
    }
   },
   "outputs": [],
   "source": [
    "%load_ext rpy2.ipython"
   ]
  },
  {
   "cell_type": "code",
   "execution_count": 2,
   "metadata": {
    "autoscroll": false,
    "ein.hycell": false,
    "ein.tags": "worksheet-0",
    "slideshow": {
     "slide_type": "-"
    }
   },
   "outputs": [
    {
     "name": "stderr",
     "output_type": "stream",
     "text": [
      "/opt/conda/lib/python3.6/site-packages/rpy2/rinterface/__init__.py:186: RRuntimeWarning: Loading tidyverse: ggplot2\n",
      "Loading tidyverse: tibble\n",
      "Loading tidyverse: tidyr\n",
      "Loading tidyverse: readr\n",
      "Loading tidyverse: purrr\n",
      "Loading tidyverse: dplyr\n",
      "\n",
      "  warnings.warn(x, RRuntimeWarning)\n",
      "/opt/conda/lib/python3.6/site-packages/rpy2/rinterface/__init__.py:186: RRuntimeWarning: Conflicts with tidy packages ---------------------------------------------------\n",
      "\n",
      "  warnings.warn(x, RRuntimeWarning)\n",
      "/opt/conda/lib/python3.6/site-packages/rpy2/rinterface/__init__.py:186: RRuntimeWarning: filter(): dplyr, stats\n",
      "lag():    dplyr, stats\n",
      "\n",
      "  warnings.warn(x, RRuntimeWarning)\n"
     ]
    }
   ],
   "source": [
    "%%R\n",
    "\n",
    "library(tidyverse)"
   ]
  },
  {
   "cell_type": "code",
   "execution_count": 3,
   "metadata": {
    "autoscroll": false,
    "ein.hycell": false,
    "ein.tags": "worksheet-0",
    "slideshow": {
     "slide_type": "-"
    }
   },
   "outputs": [
    {
     "name": "stderr",
     "output_type": "stream",
     "text": [
      "/opt/conda/lib/python3.6/site-packages/rpy2/rinterface/__init__.py:186: RRuntimeWarning: Parsed with column specification:\n",
      "cols(\n",
      "  X = col_double(),\n",
      "  label = col_integer()\n",
      ")\n",
      "\n",
      "  warnings.warn(x, RRuntimeWarning)\n"
     ]
    }
   ],
   "source": [
    "%%R\n",
    "# make sure to get your data in the same folder, next to the notebook file\n",
    "# so that this will run!\n",
    "\n",
    "\n",
    "dat <- read_csv('classification_data.csv')"
   ]
  },
  {
   "cell_type": "code",
   "execution_count": 60,
   "metadata": {
    "autoscroll": false,
    "ein.hycell": false,
    "ein.tags": "worksheet-0",
    "slideshow": {
     "slide_type": "-"
    }
   },
   "outputs": [
    {
     "data": {
      "image/png": "[encoded data removed]"
     },
     "metadata": {},
     "output_type": "display_data"
    }
   ],
   "source": [
    "%%R\n",
    "# Your data consists of an \"X\" column and a \"label\" column\n",
    "# Use ggplot to plot a kernel density estimate of each label (overlayed on the same plot)\n",
    "# hint: don't forget to make sure the labels are factors!\n",
    "new_df <- dat %>% mutate(label = parse_factor(label, NULL))\n",
    "\n",
    "new_df_1 <- filter(new_df, label == 1)\n",
    "new_df_2 <- filter(new_df, label == 0)\n",
    "\n",
    "ggplot(new_df_1, aes(X)) +\n",
    "  geom_density(data=new_df_2, color = \"red\")+\n",
    "  geom_density(data=new_df_1, color = \"green\")\n",
    "\n",
    "\n"
   ]
  },
  {
   "cell_type": "markdown",
   "metadata": {
    "ein.tags": "worksheet-0",
    "slideshow": {
     "slide_type": "-"
    }
   },
   "source": [
    "# Problem 2: Using Classes in Python"
   ]
  },
  {
   "cell_type": "code",
   "execution_count": 63,
   "metadata": {
    "autoscroll": false,
    "ein.hycell": false,
    "ein.tags": "worksheet-0",
    "slideshow": {
     "slide_type": "-"
    }
   },
   "outputs": [],
   "source": [
    "from abc import ABC, abstractmethod\n",
    "from math import sqrt\n",
    "\n",
    "def smart_zip(a,b):\n",
    "    try:\n",
    "        return zip(a, b)\n",
    "    except TypeError:\n",
    "        return zip([a], [b])\n",
    "\n",
    "class AbstractKNeighbors(ABC):\n",
    "    def __init__(self, K):\n",
    "        self.K = K\n",
    "\n",
    "    def fit(self, X, y):\n",
    "        \"\"\" Train the model!\n",
    "\n",
    "        X should be a list of data points\n",
    "        y should be a list of labels\n",
    "        \"\"\"\n",
    "        self.X = X\n",
    "        self.y = y\n",
    "        return self\n",
    "\n",
    "    @abstractmethod\n",
    "    def _make_prediction(self, labels):\n",
    "        pass\n",
    "\n",
    "    def predict(self, new_x):\n",
    "        \"\"\"Find the nearest K neighbors\n",
    "        \n",
    "        new_x should be a single data point\n",
    "        \"\"\"\n",
    "\n",
    "        dists = [sqrt(sum(([(i-j)**2 for i,j in smart_zip(x,new_x)])))\n",
    "                 for x in self.X]\n",
    "        sorted_neighbors = sorted(enumerate(dists),\n",
    "                                  key=lambda t: t[1])\n",
    "        labels = [self.y[i] for i,_ in sorted_neighbors]\n",
    "        return self._make_prediction(labels)\n",
    "\n",
    "\n",
    "class KNearestNeighbors(AbstractKNeighbors):\n",
    "    def _make_prediction(self, labels):\n",
    "        avg = sum(labels[:self.K])/self.K\n",
    "        return round(avg)\n",
    "\n",
    "class KFurthestNeighbors(AbstractKNeighbors):\n",
    "    def _make_prediction(self, labels):\n",
    "        avg = sum(labels[-self.K:])/self.K\n",
    "        return round(1 - avg)"
   ]
  },
  {
   "cell_type": "code",
   "execution_count": 64,
   "metadata": {
    "autoscroll": false,
    "ein.hycell": false,
    "ein.tags": "worksheet-0",
    "slideshow": {
     "slide_type": "-"
    }
   },
   "outputs": [],
   "source": [
    "from csv import reader\n",
    "\n",
    "with open('classification_data.csv', 'r') as f:\n",
    "    dat = list(reader(f))[1:]\n",
    "    dat = [[float(x), int(label)] for x,label in dat]"
   ]
  },
  {
   "cell_type": "markdown",
   "metadata": {
    "ein.tags": "worksheet-0",
    "slideshow": {
     "slide_type": "-"
    }
   },
   "source": [
    "## Problem 2.1: Shuffling!"
   ]
  },
  {
   "cell_type": "code",
   "execution_count": 76,
   "metadata": {
    "autoscroll": false,
    "ein.hycell": false,
    "ein.tags": "worksheet-0",
    "slideshow": {
     "slide_type": "-"
    }
   },
   "outputs": [],
   "source": [
    "# In your data, \"X\" is a data point that is nothing more than\n",
    "# a single number. \n",
    "# Shuffle your data into a random order (use random.shuffle!)\n",
    "import random\n",
    "X = random.shuffle(dat)\n"
   ]
  },
  {
   "cell_type": "code",
   "execution_count": 77,
   "metadata": {
    "autoscroll": false,
    "ein.hycell": false,
    "ein.tags": "worksheet-0",
    "slideshow": {
     "slide_type": "-"
    }
   },
   "outputs": [],
   "source": [
    "# If you shuffled your data, this test should pass\n",
    "# (i.e. not throw an error)\n",
    "\n",
    "assert(sum([label for x,label in dat[:50]]) != 0)"
   ]
  },
  {
   "cell_type": "markdown",
   "metadata": {
    "ein.tags": "worksheet-0",
    "slideshow": {
     "slide_type": "-"
    }
   },
   "source": [
    "## Problem 2.2: Splitting!"
   ]
  },
  {
   "cell_type": "code",
   "execution_count": 79,
   "metadata": {
    "autoscroll": false,
    "ein.hycell": false,
    "ein.tags": "worksheet-0",
    "slideshow": {
     "slide_type": "-"
    }
   },
   "outputs": [],
   "source": [
    "# Split your data, which is now a list, into 2 sublists:\n",
    "# \"train\" and \"test\"\n",
    "# The \"train\" group should have 700 elements\n",
    "# The test group should have 300 elements\n",
    "# Each group should have the same format as the original data\n",
    "\n",
    "train = dat[:699]\n",
    "test = dat[700:]"
   ]
  },
  {
   "cell_type": "code",
   "execution_count": 81,
   "metadata": {
    "autoscroll": false,
    "ein.hycell": false,
    "ein.tags": "worksheet-0",
    "slideshow": {
     "slide_type": "-"
    }
   },
   "outputs": [
    {
     "name": "stdout",
     "output_type": "stream",
     "text": [
      "[[0.4793106992178875, 0], [-3.2145968511150924, 0], [1.3756418149314498, 0], [0.4488950146741837, 1], [4.605299116449604, 0], [-0.17059482823862737, 0], [-0.5744990867347419, 0], [-1.409802597431057, 1], [-2.086813662757523, 1], [1.6876002946126785, 1], [-3.753242181870463, 1], [-1.3751297761001913, 1], [1.160790199200993, 0], [-2.6498703707394133, 1], [-3.345400250911834, 1], [4.406163099607436, 1], [4.309891390817572, 0], [1.9203409843761932, 0], [-4.3476670076319, 1], [0.13270701956526643, 1], [5.424689225722013, 0], [-7.983835199216159, 1], [1.6696404262511093, 0], [3.092456915960364, 0], [0.4423724749681446, 1], [2.4575737463101452, 0], [-9.763935077276724, 1], [-2.563432621134047, 0], [2.8885859611647744, 0], [-5.067198663064087, 1], [-3.133182949404637, 1], [0.4607719018897578, 0], [1.9649288414206927, 0], [2.452921070268159, 1], [1.7009194360824087, 1], [-5.646534489456365, 1], [-0.17296267405218624, 1], [1.7009057483560346, 0], [-6.264856352595013, 1], [4.792327327745093, 1], [7.583754878351286, 0], [2.1155318312967566, 0], [0.5976636847751262, 1], [1.1843134295585687, 1], [2.225358551342067, 1], [1.9468737318884288, 0], [1.3986725288432464, 0], [0.6568636752887917, 0], [0.22054582872902007, 1], [-2.6841924558683483, 1], [0.9980292150709729, 1], [2.9845153742484465, 1], [3.1870215636376944, 1], [4.710233287863777, 0], [2.0977555011411138, 0], [-3.1837714688343874, 1], [-3.1511706291883543, 0], [0.5262875083941263, 0], [0.535204043331087, 1], [2.0831222749006697, 0], [4.205654049520634, 0], [1.167770349614657, 0], [-1.0277014832433444, 0], [1.3671984411458817, 1], [-3.6402982728576103, 1], [-4.590733010256797, 1], [-0.8624726446716859, 1], [-3.0821537836372768, 1], [4.913398422378823, 1], [5.465960747113644, 0], [-3.953852835080528, 1], [4.341559187594662, 0], [-1.0854010197731676, 0], [1.5644550187744601, 0], [0.42961014382784857, 1], [0.5396597754593973, 1], [2.355931483389706, 0], [-3.9085244750512427, 1], [1.1955001221099024, 0], [-1.403590699252923, 0], [1.569572398107115, 0], [2.145102242148865, 0], [1.2054125658224382, 1], [1.7480375619159332, 0], [2.678885385525184, 0], [6.424045507615749, 0], [0.9531766033421185, 1], [-2.0880856199145157, 0], [-5.968662535734884, 1], [-1.0856866533367535, 0], [1.6447747567970452, 0], [4.764958237225746, 0], [-1.7228290343073478, 1], [-0.3943195372951407, 0], [-0.0034466284431724503, 0], [5.669367528703831, 0], [4.144779353953661, 0], [-3.566307952394656, 1], [-0.7829022533954001, 1], [4.961606965879879, 0], [2.2381880027341023, 1], [1.8994124121641933, 1], [1.8388244366485365, 0], [1.491055413380272, 1], [-2.6801417783121035, 1], [-0.7424142791856214, 0], [1.597793787913517, 1], [-5.994820876606491, 1], [-0.11718887667672684, 0], [3.4494075114993477, 1], [2.700335147126782, 0], [1.6823451898598814, 1], [1.7709259662430228, 0], [0.21899516589037948, 1], [3.4367954203924818, 0], [1.977064952534832, 0], [-4.369137760617295, 1], [-2.3164922401287886, 1], [9.306811911534988, 0], [-5.385981678472461, 1], [1.040794988582034, 0], [1.8533395762115095, 0], [2.1890363897482024, 0], [1.274070225336518, 0], [2.601755245069283, 0], [-3.140073991796137, 1], [3.1775785674964574, 1], [4.693852175453943, 0], [-0.44046254294419196, 0], [-4.657640994338468, 1], [-0.18038694599286087, 0], [2.7297684826788347, 0], [-3.2607451294398833, 1], [-1.5295514911918087, 1], [2.6633275622964288, 1], [1.7730668180404086, 0], [2.189970302301491, 0], [2.598544786091299, 0], [5.322345765218072, 0], [-2.2721822408843257, 1], [5.166809288768791, 1], [-0.14504634104687986, 0], [-0.41319748122297906, 1], [1.1771293347254321, 1], [1.156977367544541, 0], [0.6570275755383994, 0], [-0.557249226332617, 1], [2.4650401245997813, 1], [3.0059695319764064, 1], [4.779737097912888, 1], [3.831749834697768, 0], [1.0873617842783294, 1], [-5.179056867999167, 1], [0.27302531525405005, 0], [4.993798975712915, 0], [2.460710942935767, 0], [1.050169294133651, 0], [-1.708189107607935, 0], [4.656774199199251, 0], [-1.038817931444289, 1], [2.508567708376467, 0], [-6.300254622745197, 1], [4.554197258870787, 1], [-0.12958010737132475, 1], [-0.43951040785720563, 0], [4.197146738328364, 1], [3.333037391533341, 0], [3.173046045225896, 0], [0.7387798483391128, 1], [1.0714903740711137, 0], [3.0473266511020625, 0], [-2.335763569062687, 1], [3.7898745590995095, 0], [1.9793093778316837, 0], [2.628041900616733, 1], [0.963473553070185, 0], [2.929639090433194, 0], [-0.25594290872299874, 0], [0.152609735201247, 0], [4.686525219278568, 0], [3.851065673461741, 0], [-3.6544778091494265, 1], [1.006041848401347, 0], [2.3531904645085993, 1], [4.308864818339803, 0], [-0.9960850825498907, 1], [2.5006439140481547, 1], [-0.050980952767453847, 1], [2.6936819362572706, 0], [3.486019818013162, 1], [0.49652554601870413, 0], [2.7052908508193383, 0], [-1.3550020384763122, 0], [1.3669482924503906, 0], [3.9191972181602464, 0], [-4.5060606585485825, 1], [1.7374733524561625, 0], [-4.283874023282723, 1], [-0.18572636333862957, 1], [-2.2467346239793784, 1], [1.819126188271529, 0], [-1.1914173407335247, 1], [0.11510022255128782, 0], [1.5779077677252262, 1], [1.6264572625175822, 0], [6.1410844278502825, 1], [-1.7382394358436648, 1], [3.7633867025348344, 0], [1.779845294215077, 1], [1.3339260471690881, 0], [-3.6164641484227804, 1], [0.2057112754305761, 0], [-8.858252945338823, 1], [4.201337655421225, 1], [-0.3203101738244831, 1], [-1.078539158573073, 1], [-4.876036661659118, 1], [5.917652771180965, 0], [-2.5833570006796567, 0], [3.903548788112925, 0], [5.681874307159395, 1], [-1.6580173394760198, 1], [-2.2057206749088016, 1], [0.7365898902497015, 0], [1.2098884707377664, 1], [3.3882583074963395, 0], [3.75575595688977, 1], [-4.196159868915131, 1], [-1.9585457732917968, 1], [2.605400698211083, 0], [0.7599949074572425, 1], [-1.1780187427011133, 0], [2.9412983606143883, 1], [2.6761499476484416, 0], [-0.36799323379095217, 1], [1.5280907883663204, 1], [-2.1589036565814235, 0], [-2.182004305819434, 0], [-3.1657161945303858, 1], [1.2257420306482834, 0], [2.680333811571452, 0], [2.11024309795786, 1], [-1.9503460283433345, 1], [0.5421012018557412, 0], [3.5226527282790148, 0], [2.247945836200624, 0], [-2.4710414638346005, 1], [2.374742088529773, 0], [3.9628908093821704, 0], [7.060965960730799, 1], [-2.5565332358634247, 1], [-2.0206036906563507, 1], [1.9248657131609075, 0], [-0.26884042122577956, 0], [2.9319032781295693, 0], [2.5582711953006285, 0], [-3.330710220295792, 1], [-3.3565634861759746, 1], [0.7875154230613004, 1], [-0.7842168517519164, 1], [0.13272072063652507, 0], [4.251591928853145, 0], [0.6501274587500439, 1], [1.8303426020132614, 0], [6.417892447818211, 0], [-1.3497184860279954, 0], [3.5003002586761696, 1], [2.5669934923445488, 0], [-1.2235701675700457, 1], [2.3988248742926817, 0], [-1.0439144288878603, 0], [5.499777026369838, 0], [-3.5495528330693578, 1], [-3.5949862900978453, 1], [-11.019480165804335, 1], [3.2203649515154966, 0], [3.499638498576325, 0], [-3.8309965774398087, 1], [-0.9246310557712693, 1], [8.502278999537548, 1], [3.6918292711937535, 0], [1.1011943154104658, 0], [5.098573620293509, 0], [2.037146236535045, 1], [-0.1436614032966359, 1], [4.3504673335018555, 1], [0.26191862667279175, 1], [3.293785297011368, 0], [4.289621326845197, 0], [3.552513194676888, 0], [-0.15149090768658757, 1], [0.9531475266111435, 0], [1.229936471930439, 0], [-0.0808957592428462, 1], [0.06707813635527926, 0], [-5.428303607386255, 1], [3.4953723155004672, 0], [-0.17349792852170642, 0], [4.009249660621473, 0], [3.2592395528793725, 1], [2.958619192165476, 0], [-0.44710138374942243, 0], [-0.662178677222331, 1], [0.827480082244451, 0], [4.834621832618429, 0], [2.9785405249184977, 0], [2.335391618715405, 0], [0.47013901464933094, 0], [-0.3990900634056326, 1], [2.3547306652787845, 0], [2.843853142881426, 0], [0.07823105900440752, 1], [1.5614562489040773, 0], [0.8911856170369048, 0], [-2.175011149149658, 1], [-0.4413115736452038, 1], [2.3520761563892973, 0], [0.9092033809977633, 0], [0.5961623460968335, 1], [1.2780287003044979, 0], [-0.6058272697867406, 0], [4.18689292502294, 1], [5.226022325487157, 0], [2.2963257055178654, 0], [-0.8649025292323973, 1], [-0.6274948870082606, 0], [-6.992951554283538, 1], [4.193809261024717, 0], [-2.7610714481759935, 1], [-1.4742207949592276, 0], [-7.683117159761189, 1], [1.0211785021684068, 1], [-1.5523931628712395, 1], [5.637912489097795, 1], [-6.1651680980372925, 1], [1.2274056730280465, 0], [1.4055367380219255, 0], [-3.813766243974405, 1], [0.35452486074504863, 0], [0.6902944720927202, 1], [-0.7382259302817056, 1], [0.426098806064118, 0], [-0.1877633859491079, 1], [0.34255859740276784, 1], [1.8761973447657547, 0], [3.598431436849572, 0], [1.4148944257796074, 1], [-0.3240022498428671, 1], [0.6429196000643584, 1], [-4.271930356859123, 1], [0.8908502293678233, 1], [4.010844725698379, 0], [-1.3145274480588651, 0], [-3.160585997288459, 1], [-3.3417385286574532, 1], [2.756167282688504, 0], [-1.3514879095053527, 1], [3.5730621328724634, 0], [3.56041036498233, 0], [-1.0283677885880778, 1], [0.6826463369062699, 1], [-0.9548611962110026, 1], [1.0270044792985975, 0], [-0.8066656267182922, 1], [1.3242895679335782, 0], [0.23632440611254957, 1], [-3.274701956275984, 1], [1.6412352025263535, 0], [1.3489559456478246, 0], [-0.44402679662983546, 0], [2.5357400232688994, 0], [5.215188127928933, 0], [1.9027358270579589, 1], [0.09944866337274227, 0], [1.3863763174116386, 0], [0.5140536170655325, 1], [-1.877956073736342, 1], [0.3407200942483233, 1], [-1.1179384320849142, 1], [4.972024431269088, 1], [-2.626742711904975, 1], [2.9709526003236735, 0], [-0.7163662254859144, 1], [-0.5779555228185553, 0], [-0.09208233496647611, 1], [0.0948440795360479, 0], [0.7463424899874371, 1], [2.9625942401624883, 1], [1.8539852238995658, 1], [0.9034389723246239, 1], [-1.6273241731359092, 1], [-3.203483507316318, 1], [2.0188816095036035, 0], [5.471098421717901, 0], [6.016406445046341, 0], [0.9353156485983887, 0], [2.130441028634921, 0], [1.9596718289222013, 0], [-0.7100172545839761, 1], [-1.7349947037920546, 1], [-0.7284679130177931, 1], [3.318216637043861, 0], [5.886752477949212, 1], [3.917504456742096, 1], [1.1552690065637954, 1], [2.460463774566515, 0], [1.4217043106622305, 0], [2.9339584847845614, 1], [2.461919773030365, 0], [4.209019449608258, 0], [0.8449614992644543, 0], [1.708266199403178, 0], [2.885569332368835, 0], [0.6575250960976373, 1], [0.24407756248588441, 1], [3.479818680067316, 1], [2.4442365950466516, 0], [0.7991973025936914, 1], [4.879477484514744, 0], [0.2431472740059173, 0], [-0.9892901056128536, 0], [1.026803747220366, 0], [6.233424162791945, 0], [-2.639330915663074, 1], [0.04441569150235258, 1], [1.7001127866154562, 1], [0.11872064472575228, 0], [2.0171680284808553, 1], [-0.4684002024988576, 0], [-0.8752184211794417, 1], [-0.09135329862515651, 1], [-4.073443636482749, 1], [2.8462407491116197, 1], [-1.3922436214151406, 1], [3.9770533472361205, 0], [-3.6235222942074934, 1], [-0.9423335001024518, 1], [6.354097481646269, 1], [-2.776176841285655, 1], [1.0804951978620263, 0], [-0.2766471896379099, 1], [4.682826042149369, 0], [-1.5649525209097637, 0], [4.470194808398365, 0], [1.440949367896684, 0], [2.600149966272811, 0], [2.3068655924088297, 0], [4.047286663036722, 0], [1.1569736565201412, 1], [0.8810400716313105, 0], [-0.9624378724332026, 0], [3.0058247534544185, 0], [2.0499587595970556, 1], [1.6834938241487376, 0], [4.077448620099968, 0], [-3.5067666999213825, 1], [-1.2516660683986724, 1], [2.3670683355520694, 1], [-5.534068363918393, 1], [2.354916889160782, 1], [0.34037659767191486, 1], [1.9780447091283786, 0], [2.4266100044810397, 0], [-2.4791900139572522, 1], [1.2516531725765248, 0], [-5.148647943840814, 1], [-3.9468247919435147, 1], [0.9540999708420179, 1], [1.9524041274860637, 0], [1.2962310930578917, 0], [-0.9579297213164729, 1], [2.7603668269976662, 0], [1.6938670557932882, 1], [2.7529179141365785, 0], [6.307481326268624, 0], [1.352591902056163, 1], [-1.8700634218567669, 1], [-2.014477955867041, 0], [3.1664420311477888, 0], [-0.7977907590045186, 1], [2.5477351182320818, 0], [0.646794890721955, 0], [1.9483552867803047, 1], [3.681841009894776, 0], [-1.6197299451187264, 1], [1.1906829744018306, 0], [1.4679689799244635, 0], [-0.9597551333324171, 1], [0.5610865931535274, 0], [2.41264501060219, 0], [-3.8953040740856824, 1], [5.781853379730526, 0], [-5.571607967190319, 1], [2.358544270246075, 0], [-3.083353898437826, 0], [0.2070762533691599, 1], [0.673250541997851, 1], [-2.322320218551978, 0], [2.0656086807361707, 1], [1.7822041328565486, 1], [4.783250368630684, 0], [4.104418670642652, 0], [-0.526405422542886, 1], [2.0965504610118244, 0], [-0.14715193544011962, 0], [0.5714502685597682, 1], [2.039209604757846, 0], [1.6079119871696674, 1], [-1.1934515476866936, 1], [-3.854108943288858, 1], [1.9210996723527836, 1], [2.035466619001156, 0], [2.1641980428645016, 1], [2.4581158420679223, 1], [-5.929049750859848, 1], [1.9043278715994951, 0], [-0.748736638717522, 0], [-0.997795127303397, 1], [2.7669571731932687, 0], [-9.025686224126156, 1], [1.329854494088666, 0], [-3.5825493682689604, 1], [-2.13685642662312, 0], [6.119113855360122, 0], [1.2979195299961905, 0], [1.7194220796502688, 1], [-2.47733441010646, 1], [3.7053101273873175, 0], [2.994830906071469, 0], [-3.723194562507256, 1], [3.627821489479345, 0], [-1.3045408090446569, 0], [-1.717407577034496, 1], [7.394755558505678, 0], [1.3573186464033458, 0], [3.185840220513124, 0], [-2.222602998691227, 1], [1.9133365142151368, 0], [-6.653460529736507, 1], [1.9929710454555745, 0], [-0.5808575047769842, 1], [1.3025652459317603, 0], [-2.7280952060908272, 1], [-0.3878196276428961, 1], [0.9037651011846071, 0], [1.3611860130036586, 0], [-3.8021886828865425, 1], [5.951186069679705, 0], [-1.3218471310391142, 1], [2.6076652013525248, 0], [-0.3812760970233029, 0], [0.47933707613515786, 1], [-0.8071546047805382, 0], [2.3019998463088114, 0], [6.239090058419334, 1], [0.4043996002098069, 1], [7.2782226004466555, 0], [6.011219558926496, 0], [1.0773828281345486, 1], [0.4638960512010686, 1], [0.6258650956288303, 1], [6.391044675903164, 1], [-0.584157566979947, 1], [2.1100656998999603, 0], [-4.813264095293845, 1], [1.981048176718918, 0], [0.1855452218568443, 0], [4.0649143652115605, 0], [3.615322310767663, 1], [-2.066676925032856, 1], [-0.5326357672851524, 1], [1.6041162885240914, 0], [-0.9368965835371504, 1], [3.94745962115452, 1], [3.463726510547595, 0], [-2.9145985888394543, 1], [1.7020747218661125, 0], [-1.9558231103622092, 1], [4.1710400577362865, 0], [-4.1826603931760244, 1], [3.2084028526845287, 0], [-11.310429264267142, 1], [1.366376182241103, 1], [-3.3822990734146647, 1], [-0.8960554968416328, 1], [-5.597634116448299, 1], [0.6608374195759716, 0], [-1.2444317774161926, 1], [-1.0291223197921315, 0], [1.4710002487477172, 0], [-0.968691723734179, 1], [4.568510389548891, 0], [-0.2752020117725411, 1], [-0.5547914210975184, 1], [-0.31905249235557953, 1], [2.2277758408935493, 0], [-3.5002654927838464, 1], [1.658058844171657, 0], [-1.8501841232812422, 1], [-1.1639157002610738, 1], [2.850682688486785, 1], [1.2808443095945918, 1], [-0.29152921632799966, 0], [0.41206447036719074, 1], [3.1818370158731524, 0], [1.6430940328867671, 0], [6.073744644450936, 1], [1.7270127211608968, 0], [4.152972419107066, 0], [2.1598704362944066, 1], [1.166482758130305, 1], [-3.9968412607047155, 1], [-2.4721496649012185, 1], [-5.468024400816589, 1], [-3.2412297324853663, 1], [0.4813512717394468, 1], [0.3337009447676118, 1], [4.517251239668484, 1], [-0.6350037501727901, 1], [4.243220343717827, 0], [-1.093203937359787, 0], [2.4375736767650316, 0], [1.46393668446769, 0], [5.485184670658992, 0], [-0.6027357023599333, 0], [-1.3747379192814737, 1], [-1.885272211588096, 1], [3.355613840041166, 0], [3.6969055620021845, 1], [2.7309005563942503, 0], [2.5749997320726417, 0], [1.76345468747812, 1], [-4.563654584136939, 1], [-1.7386281035066748, 1], [4.393277523630752, 0], [6.110741586489869, 1], [0.2550502738167042, 1], [-2.09493951848217, 1], [3.6237891517425647, 0], [2.258144113191521, 0], [-2.1050197487342084, 0], [3.9723459513944133, 0], [3.6828132395636604, 0], [5.158404657809678, 1], [1.5900807874652934, 1], [1.0216434126775524, 0], [1.9483373470116698, 0], [3.9706069123623613, 0], [3.0595265243490033, 1], [-2.659211495289163, 1], [6.712015521058599, 1], [0.48971029075118966, 0], [3.026685717212092, 0], [-0.9725178197496849, 1], [-0.38138764039928696, 1], [0.34727551847582316, 1], [-0.65254563012455, 1], [0.6032373621610372, 1], [-2.26244226120225, 1], [2.8580869794262522, 0], [-7.735093267932426, 1], [-0.0006518413497960118, 0], [0.2779794336564143, 1], [1.0564829647915244, 0], [0.65154563780577, 1], [7.149411819471178, 0], [-2.0290989445765506, 1], [-0.7632882754845136, 1], [0.09908367657853456, 0], [3.362962787403635, 1], [0.05800676629594537, 1], [2.1494411974840175, 0], [-3.0984532757304444, 1], [-3.5486551041379935, 1], [4.41996357252226, 0], [-0.5519947001001322, 0], [1.957400232852721, 1], [2.9402679797829254, 0], [-1.2454112600695728, 0], [-1.164068138103106, 1], [-6.901162522299769, 1], [1.6997774536393027, 0], [4.440094009045139, 0], [5.556547160309504, 1], [1.3078968962069828, 0], [4.69499281373383, 0], [4.816995610813507, 1], [2.7859250960504536, 0], [1.710564728963808, 0], [-8.291087196666565, 1], [5.841908851186625, 0], [1.607669966156605, 1], [-5.8406412916449195, 1], [-3.244307243383324, 1], [-0.29698052019171506, 0], [1.8158907333302765, 0], [3.3275658257360003, 0], [0.3802770453049229, 1], [-6.860841330887193, 1]]\n"
     ]
    }
   ],
   "source": [
    "# Now you will need to make another split, within the groups!\n",
    "# For each group (\"train\" and \"test\") split the X's from the labels.\n",
    "\n",
    "# THIS is how far i got\n",
    "train_x = train[1]\n",
    "test_x = test[1]"
   ]
  },
  {
   "cell_type": "markdown",
   "metadata": {
    "ein.tags": "worksheet-0",
    "slideshow": {
     "slide_type": "-"
    }
   },
   "source": [
    "## Problem 2.3: Testing models!"
   ]
  },
  {
   "cell_type": "code",
   "execution_count": 124,
   "metadata": {
    "autoscroll": false,
    "ein.hycell": false,
    "ein.tags": "worksheet-0",
    "slideshow": {
     "slide_type": "-"
    }
   },
   "outputs": [],
   "source": [
    "# For each model: \n",
    "# 1. Create an instance the class, with constructor parameters: K=5\n",
    "# 2. Train the instance on the \"train\" groups X's and labels (y's)\n",
    "# 3. Test how well the instance does: \n",
    "#    A. Use the trained instance to predict the label of each \"X\" in the \"test\" group\n",
    "#    B. Use your \"test\" labels to see if the predicted label is equal the true label\n",
    "\n"
   ]
  },
  {
   "cell_type": "code",
   "execution_count": null,
   "metadata": {
    "autoscroll": false,
    "ein.hycell": false,
    "ein.tags": "worksheet-0",
    "slideshow": {
     "slide_type": "-"
    }
   },
   "outputs": [],
   "source": [
    "# Compare the two classes of models!"
   ]
  }
 ],
 "metadata": {
  "kernelspec": {
   "display_name": "Python 3",
   "language": "python",
   "name": "python3"
  },
  "language_info": {
   "codemirror_mode": {
    "name": "ipython",
    "version": 3
   },
   "file_extension": ".py",
   "mimetype": "text/x-python",
   "name": "python",
   "nbconvert_exporter": "python",
   "pygments_lexer": "ipython3",
   "version": "3.6.3"
  },
  "name": "Untitled.ipynb"
 },
 "nbformat": 4,
 "nbformat_minor": 2
}
